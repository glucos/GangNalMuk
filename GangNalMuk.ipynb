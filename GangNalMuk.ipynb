{
 "cells": [
  {
   "cell_type": "code",
   "execution_count": 1,
   "metadata": {},
   "outputs": [],
   "source": [
    "from selenium import webdriver\n",
    "from selenium.webdriver.support.ui import WebDriverWait\n",
    "from selenium.webdriver.support import expected_conditions as EC\n",
    "from selenium.webdriver.common.by import By\n",
    "import os\n",
    "import time , sys"
   ]
  },
  {
   "cell_type": "code",
   "execution_count": null,
   "metadata": {},
   "outputs": [],
   "source": []
  },
  {
   "cell_type": "code",
   "execution_count": 2,
   "metadata": {},
   "outputs": [],
   "source": [
    "if  getattr(sys, 'frozen', False): \n",
    "    chromedriver_path = os.path.join(sys._MEIPASS, \"chromedriver.exe\")\n",
    "    dr = webdriver.Chrome(chromedriver_path)\n",
    "else:\n",
    "    dr = webdriver.Chrome()"
   ]
  },
  {
   "cell_type": "code",
   "execution_count": 3,
   "metadata": {},
   "outputs": [],
   "source": [
    "dr.implicitly_wait(5)"
   ]
  },
  {
   "cell_type": "code",
   "execution_count": 4,
   "metadata": {},
   "outputs": [],
   "source": [
    "options = webdriver.ChromeOptions()\n",
    "options.add_argument(\"user-agent=Mozilla/5.0 (Windows NT 6.1; WOW64; Trident/7.0; rv:11.0) like Gecko\")"
   ]
  },
  {
   "cell_type": "code",
   "execution_count": 5,
   "metadata": {},
   "outputs": [
    {
     "name": "stdout",
     "output_type": "stream",
     "text": [
      "온라인 강의 학습하기 버튼 클릭 직전으로 이동\n"
     ]
    }
   ],
   "source": [
    "login_site = 'http://clc.chosun.ac.kr/ilos/main/member/login_form.acl'\n",
    "m='0'\n",
    "now_site = dr.current_url\n",
    "dr.get(login_site)\n",
    "if now_site == login_site:\n",
    "    print('로그인 후 온라인 강의 학습버튼 클릭 직전으로 이동')\n",
    "else:\n",
    "    print('온라인 강의 학습하기 버튼 클릭 직전으로 이동')"
   ]
  },
  {
   "cell_type": "code",
   "execution_count": 6,
   "metadata": {},
   "outputs": [],
   "source": [
    "#강의 리스트\n",
    "def start():\n",
    "    input('강의 목록으로 이동 했다면 엔터를 눌러 실행')\n",
    "    try:\n",
    "        lec_list = dr.find_elements_by_class_name('lecture-box')\n",
    "        lec_num = len(lec_list)\n",
    "        for i in (0,lec_num-1):\n",
    "            print(lec_list[(i)].text)\n",
    "        lec_sys()\n",
    "    except:\n",
    "        try:\n",
    "            lec_list = dr.find_elements_by_id('online_mode_wrap')\n",
    "            lec_on_sys()\n",
    "        except:\n",
    "            print('온라인 강의 학습하기 버튼 클릭 직전으로 가야함\\n사이버강의는 전체 차수가 보이는 기본화면으로')"
   ]
  },
  {
   "cell_type": "markdown",
   "metadata": {},
   "source": [
    "dr.find_element_by_xpath('//*[@id=\"K014\"]').click()"
   ]
  },
  {
   "cell_type": "markdown",
   "metadata": {},
   "source": [
    "lec_list = dr.find_elements_by_class_name('lecture-box')\n",
    "lec_num = len(lec_list)\n",
    "lec_list[1]"
   ]
  },
  {
   "cell_type": "markdown",
   "metadata": {},
   "source": [
    "dr.switch_to.default_content()"
   ]
  },
  {
   "cell_type": "code",
   "execution_count": 7,
   "metadata": {},
   "outputs": [],
   "source": [
    "#일반 강의 시스템\n",
    "def lec_sys():\n",
    "    lec_list = dr.find_elements_by_class_name('lecture-box')\n",
    "    lec_num = len(lec_list)\n",
    "    try:\n",
    "        for i in range(0,lec_num):\n",
    "            lec_mov((i))\n",
    "            print('강의 %d 개 끝' %(i+1))\n",
    "        lec_quit()\n",
    "    except:\n",
    "        print('에러')"
   ]
  },
  {
   "cell_type": "code",
   "execution_count": 8,
   "metadata": {},
   "outputs": [],
   "source": [
    "#온라인 강의 시스템\n",
    "def lec_on_sys():\n",
    "    print(dr.find_element_by_xpath('//*[@id=\"online_mode_lect_nm\"]/span/span[1]').text)\n",
    "    dr.find_element_by_xpath('//*[@id=\"K014\"]').click()\n",
    "    lec_on_mov()"
   ]
  },
  {
   "cell_type": "code",
   "execution_count": 9,
   "metadata": {},
   "outputs": [],
   "source": [
    "def lec_on_mov():\n",
    "    per = dr.find_element_by_xpath('//*[@id=\"per_text\"]')\n",
    "    print(dr.find_element_by_xpath('//*[@id=\"lecture-1\"]/div').text)\n",
    "    if per == '100%':\n",
    "        print('이미 수강함')\n",
    "        try:\n",
    "            dr.find_element_by_xpath('//*[@id=\"online_content_nav_next\"]').click()\n",
    "        except:\n",
    "            print('마지막 강의입니다.')\n",
    "            lec_quit()\n",
    "    else:\n",
    "        dr.find_element_by_xpath('//*[@id=\"lecture-1\"]/div/ul/li[2]/img').click()\n",
    "        lec_on_cert()"
   ]
  },
  {
   "cell_type": "markdown",
   "metadata": {},
   "source": [
    "print(dr.find_element_by_xpath('//*[@id=\"lecture-1\"]/div').text)"
   ]
  },
  {
   "cell_type": "code",
   "execution_count": 10,
   "metadata": {},
   "outputs": [],
   "source": [
    "def lec_on_cert():\n",
    "    try:\n",
    "        dr.find_element_by_xpath('//*[@id=\"ui-id-2\"]')\n",
    "        print('인증 자동은 없으므로 개인이 해야함')\n",
    "        AA = input('인증을 완료하여서 재생화면으로 넘어갔다면 1+엔터, 처음부터 다시는 2+엔터')\n",
    "        if AA == '1':\n",
    "            print('강의 재생 시작, 이후 작업은 자동으로 수행할 것임')\n",
    "            lec_on_play()\n",
    "        elif AA == '2':\n",
    "            pass\n",
    "        else:\n",
    "            lec_on_cert()\n",
    "    except:\n",
    "        dr.find_element_by_xpath('//*[@id=\"lecture-1\"]/div/ul/li[2]/img').click()\n",
    "        lec_on_play()"
   ]
  },
  {
   "cell_type": "code",
   "execution_count": 11,
   "metadata": {},
   "outputs": [],
   "source": [
    "def lec_on_play():\n",
    "    try:\n",
    "        time.sleep(3)\n",
    "        dr.switch_to.default_content()\n",
    "        dr.switch_to.frame(dr.find_element_by_xpath('//*[@id=\"contentViewer\"]'))\n",
    "        try:\n",
    "            dr.find_element_by_xpath('//*[@id=\"test_player\"]/button').click()\n",
    "        except:\n",
    "            dr.find_element_by_xpath('//*[@id=\"front-screen\"]/div/div[2]/div[1]/div').click()\n",
    "        lec_time()\n",
    "    except:\n",
    "        print('재생환경 에러')"
   ]
  },
  {
   "cell_type": "code",
   "execution_count": 12,
   "metadata": {},
   "outputs": [],
   "source": [
    "def lec_on_time():\n",
    "    dr.switch_to.default_content()\n",
    "    dr.switch_to.frame(dr.find_element_by_xpath('//*[@id=\"contentViewer\"]'))\n",
    "    try:\n",
    "        et = dr.find_element_by_xpath('//*[@id=\"play-controller\"]/div/div/div[2]/div[4]/span[3]').text\n",
    "        nt = dr.find_element_by_xpath('//*[@id=\"play-controller\"]/div/div/div[2]/div[4]/span[1]').text\n",
    "    except:\n",
    "        et = dr.find_element_by_xpath('//*[@id=\"test_player\"]/div[4]/div[2]/span[2]').text\n",
    "        nt = dr.find_element_by_xpath('//*[@id=\"test_player\"]/div[4]/div[4]/span[2]').text\n",
    "    if et == nt:\n",
    "        dr.switch_to.default_content()\n",
    "        dr.find_element_by_xpath('//*[@id=\"next_\"]').click()\n",
    "        try:\n",
    "            dr.switch_to_alert().accept()\n",
    "            dr.find_element_by_xpath('//*[@id=\"close_\"]').click()\n",
    "            try:\n",
    "                dr.switch_to_alert().accept()\n",
    "            except:\n",
    "                pass\n",
    "        except:\n",
    "            lec_play()\n",
    "    else:\n",
    "        time.sleep(10)\n",
    "        lec_time()"
   ]
  },
  {
   "cell_type": "code",
   "execution_count": 13,
   "metadata": {},
   "outputs": [],
   "source": [
    "#강의 진도 확인\n",
    "def lec_mov(a) :\n",
    "    lec_list = dr.find_elements_by_class_name('lecture-box')\n",
    "    if lec_list[(a)].find_element_by_id('per_text').text =='100%':\n",
    "        print('이미 수강한 강의')\n",
    "        pass\n",
    "    else:\n",
    "        try:\n",
    "            bool(lec_list[(a)].find_element_by_class_name('view'))\n",
    "            lec_start((a))\n",
    "        except:\n",
    "            print('수강 기간이 아님')"
   ]
  },
  {
   "cell_type": "code",
   "execution_count": 20,
   "metadata": {},
   "outputs": [],
   "source": [
    "#강의 종료 인풋\n",
    "def lec_quit():\n",
    "    AB=input('강의 종료됨 정상 종료라면 1+엔터로 종료를, 아니면 2+엔터로 재시작')\n",
    "    if AB =='1':\n",
    "        m='1'\n",
    "        quit()\n",
    "        exit()\n",
    "    elif AB =='2':\n",
    "        pass\n",
    "    else:\n",
    "        lec_quit()"
   ]
  },
  {
   "cell_type": "code",
   "execution_count": null,
   "metadata": {},
   "outputs": [],
   "source": []
  },
  {
   "cell_type": "code",
   "execution_count": 15,
   "metadata": {},
   "outputs": [],
   "source": [
    "#일반강의 학습시작\n",
    "def lec_start(a):\n",
    "    lec_list = dr.find_elements_by_class_name('lecture-box')\n",
    "    lec_num = len(lec_list)\n",
    "    print(lec_list[(a)])\n",
    "    dr.execute_script(\"window.scrollTo(0,document.body.scrollHeight)\")\n",
    "    try:\n",
    "        lec_list[(a)].find_element_by_class_name('view').click()\n",
    "        try:\n",
    "            dr.switch_to_alert().accept()\n",
    "        except:\n",
    "            pass\n",
    "        lec_play()\n",
    "    except:\n",
    "        print('시작 에러')"
   ]
  },
  {
   "cell_type": "code",
   "execution_count": 16,
   "metadata": {},
   "outputs": [],
   "source": [
    "#일반강의 플레이\n",
    "def lec_play():\n",
    "    try:\n",
    "        time.sleep(4)\n",
    "        dr.switch_to.default_content()\n",
    "        dr.switch_to.frame(dr.find_element_by_xpath('//*[@id=\"contentViewer\"]'))\n",
    "        try:\n",
    "            dr.find_element_by_xpath('//*[@id=\"test_player\"]/button').click()\n",
    "        except:\n",
    "            dr.find_element_by_xpath('//*[@id=\"front-screen\"]/div/div[2]/div[1]/div').click()\n",
    "        lec_time()\n",
    "    except:\n",
    "        print('재생환경 에러')"
   ]
  },
  {
   "cell_type": "code",
   "execution_count": 17,
   "metadata": {},
   "outputs": [],
   "source": [
    "#일반강의 시간체크/종료\n",
    "def lec_time():\n",
    "    dr.switch_to.default_content()\n",
    "    dr.switch_to.frame(dr.find_element_by_xpath('//*[@id=\"contentViewer\"]'))\n",
    "    try:\n",
    "        et = dr.find_element_by_xpath('//*[@id=\"play-controller\"]/div/div/div[2]/div[4]/span[3]').text\n",
    "        nt = dr.find_element_by_xpath('//*[@id=\"play-controller\"]/div/div/div[2]/div[4]/span[1]').text\n",
    "    except:\n",
    "        et = dr.find_element_by_xpath('//*[@id=\"test_player\"]/div[4]/div[2]/span[2]').text\n",
    "        nt = dr.find_element_by_xpath('//*[@id=\"test_player\"]/div[4]/div[4]/span[2]').text\n",
    "    if et == nt:\n",
    "        dr.switch_to.default_content()\n",
    "        dr.find_element_by_xpath('//*[@id=\"next_\"]').click()\n",
    "        try:\n",
    "            dr.switch_to_alert().accept()\n",
    "            dr.find_element_by_xpath('//*[@id=\"close_\"]').click()\n",
    "            try:\n",
    "                dr.switch_to_alert().accept()\n",
    "            except:\n",
    "                pass\n",
    "        except:\n",
    "            lec_play()\n",
    "    else:\n",
    "        time.sleep(10)\n",
    "        lec_time()"
   ]
  },
  {
   "cell_type": "code",
   "execution_count": 18,
   "metadata": {},
   "outputs": [
    {
     "ename": "KeyboardInterrupt",
     "evalue": "Interrupted by user",
     "output_type": "error",
     "traceback": [
      "\u001b[1;31m---------------------------------------------------------------------------\u001b[0m",
      "\u001b[1;31mKeyboardInterrupt\u001b[0m                         Traceback (most recent call last)",
      "\u001b[1;32m<ipython-input-18-4abae4bc6c05>\u001b[0m in \u001b[0;36m<module>\u001b[1;34m\u001b[0m\n\u001b[0;32m      1\u001b[0m \u001b[1;32mwhile\u001b[0m \u001b[1;32mnot\u001b[0m \u001b[0mm\u001b[0m \u001b[1;33m==\u001b[0m\u001b[1;34m'1'\u001b[0m\u001b[1;33m:\u001b[0m\u001b[1;33m\u001b[0m\u001b[1;33m\u001b[0m\u001b[0m\n\u001b[1;32m----> 2\u001b[1;33m     \u001b[0mstart\u001b[0m\u001b[1;33m(\u001b[0m\u001b[1;33m)\u001b[0m\u001b[1;33m\u001b[0m\u001b[1;33m\u001b[0m\u001b[0m\n\u001b[0m",
      "\u001b[1;32m<ipython-input-6-b4be922201b3>\u001b[0m in \u001b[0;36mstart\u001b[1;34m()\u001b[0m\n\u001b[0;32m      1\u001b[0m \u001b[1;31m#강의 리스트\u001b[0m\u001b[1;33m\u001b[0m\u001b[1;33m\u001b[0m\u001b[1;33m\u001b[0m\u001b[0m\n\u001b[0;32m      2\u001b[0m \u001b[1;32mdef\u001b[0m \u001b[0mstart\u001b[0m\u001b[1;33m(\u001b[0m\u001b[1;33m)\u001b[0m\u001b[1;33m:\u001b[0m\u001b[1;33m\u001b[0m\u001b[1;33m\u001b[0m\u001b[0m\n\u001b[1;32m----> 3\u001b[1;33m     \u001b[0minput\u001b[0m\u001b[1;33m(\u001b[0m\u001b[1;34m'강의 목록으로 이동 했다면 엔터를 눌러 실행'\u001b[0m\u001b[1;33m)\u001b[0m\u001b[1;33m\u001b[0m\u001b[1;33m\u001b[0m\u001b[0m\n\u001b[0m\u001b[0;32m      4\u001b[0m     \u001b[1;32mtry\u001b[0m\u001b[1;33m:\u001b[0m\u001b[1;33m\u001b[0m\u001b[1;33m\u001b[0m\u001b[0m\n\u001b[0;32m      5\u001b[0m         \u001b[0mlec_list\u001b[0m \u001b[1;33m=\u001b[0m \u001b[0mdr\u001b[0m\u001b[1;33m.\u001b[0m\u001b[0mfind_elements_by_class_name\u001b[0m\u001b[1;33m(\u001b[0m\u001b[1;34m'lecture-box'\u001b[0m\u001b[1;33m)\u001b[0m\u001b[1;33m\u001b[0m\u001b[1;33m\u001b[0m\u001b[0m\n",
      "\u001b[1;32mC:\\ProgramData\\Anaconda3\\lib\\site-packages\\ipykernel\\kernelbase.py\u001b[0m in \u001b[0;36mraw_input\u001b[1;34m(self, prompt)\u001b[0m\n\u001b[0;32m    858\u001b[0m                 \u001b[1;34m\"raw_input was called, but this frontend does not support input requests.\"\u001b[0m\u001b[1;33m\u001b[0m\u001b[1;33m\u001b[0m\u001b[0m\n\u001b[0;32m    859\u001b[0m             )\n\u001b[1;32m--> 860\u001b[1;33m         return self._input_request(str(prompt),\n\u001b[0m\u001b[0;32m    861\u001b[0m             \u001b[0mself\u001b[0m\u001b[1;33m.\u001b[0m\u001b[0m_parent_ident\u001b[0m\u001b[1;33m,\u001b[0m\u001b[1;33m\u001b[0m\u001b[1;33m\u001b[0m\u001b[0m\n\u001b[0;32m    862\u001b[0m             \u001b[0mself\u001b[0m\u001b[1;33m.\u001b[0m\u001b[0m_parent_header\u001b[0m\u001b[1;33m,\u001b[0m\u001b[1;33m\u001b[0m\u001b[1;33m\u001b[0m\u001b[0m\n",
      "\u001b[1;32mC:\\ProgramData\\Anaconda3\\lib\\site-packages\\ipykernel\\kernelbase.py\u001b[0m in \u001b[0;36m_input_request\u001b[1;34m(self, prompt, ident, parent, password)\u001b[0m\n\u001b[0;32m    902\u001b[0m             \u001b[1;32mexcept\u001b[0m \u001b[0mKeyboardInterrupt\u001b[0m\u001b[1;33m:\u001b[0m\u001b[1;33m\u001b[0m\u001b[1;33m\u001b[0m\u001b[0m\n\u001b[0;32m    903\u001b[0m                 \u001b[1;31m# re-raise KeyboardInterrupt, to truncate traceback\u001b[0m\u001b[1;33m\u001b[0m\u001b[1;33m\u001b[0m\u001b[1;33m\u001b[0m\u001b[0m\n\u001b[1;32m--> 904\u001b[1;33m                 \u001b[1;32mraise\u001b[0m \u001b[0mKeyboardInterrupt\u001b[0m\u001b[1;33m(\u001b[0m\u001b[1;34m\"Interrupted by user\"\u001b[0m\u001b[1;33m)\u001b[0m \u001b[1;32mfrom\u001b[0m \u001b[1;32mNone\u001b[0m\u001b[1;33m\u001b[0m\u001b[1;33m\u001b[0m\u001b[0m\n\u001b[0m\u001b[0;32m    905\u001b[0m             \u001b[1;32mexcept\u001b[0m \u001b[0mException\u001b[0m \u001b[1;32mas\u001b[0m \u001b[0me\u001b[0m\u001b[1;33m:\u001b[0m\u001b[1;33m\u001b[0m\u001b[1;33m\u001b[0m\u001b[0m\n\u001b[0;32m    906\u001b[0m                 \u001b[0mself\u001b[0m\u001b[1;33m.\u001b[0m\u001b[0mlog\u001b[0m\u001b[1;33m.\u001b[0m\u001b[0mwarning\u001b[0m\u001b[1;33m(\u001b[0m\u001b[1;34m\"Invalid Message:\"\u001b[0m\u001b[1;33m,\u001b[0m \u001b[0mexc_info\u001b[0m\u001b[1;33m=\u001b[0m\u001b[1;32mTrue\u001b[0m\u001b[1;33m)\u001b[0m\u001b[1;33m\u001b[0m\u001b[1;33m\u001b[0m\u001b[0m\n",
      "\u001b[1;31mKeyboardInterrupt\u001b[0m: Interrupted by user"
     ]
    }
   ],
   "source": [
    "while not m =='1':\n",
    "    start()"
   ]
  },
  {
   "cell_type": "code",
   "execution_count": null,
   "metadata": {},
   "outputs": [],
   "source": []
  },
  {
   "cell_type": "code",
   "execution_count": null,
   "metadata": {},
   "outputs": [],
   "source": []
  },
  {
   "cell_type": "code",
   "execution_count": null,
   "metadata": {},
   "outputs": [],
   "source": []
  },
  {
   "cell_type": "code",
   "execution_count": null,
   "metadata": {},
   "outputs": [],
   "source": []
  },
  {
   "cell_type": "code",
   "execution_count": null,
   "metadata": {},
   "outputs": [],
   "source": []
  },
  {
   "cell_type": "code",
   "execution_count": null,
   "metadata": {},
   "outputs": [],
   "source": []
  }
 ],
 "metadata": {
  "kernelspec": {
   "display_name": "Python 3",
   "language": "python",
   "name": "python3"
  },
  "language_info": {
   "codemirror_mode": {
    "name": "ipython",
    "version": 3
   },
   "file_extension": ".py",
   "mimetype": "text/x-python",
   "name": "python",
   "nbconvert_exporter": "python",
   "pygments_lexer": "ipython3",
   "version": "3.8.5"
  }
 },
 "nbformat": 4,
 "nbformat_minor": 4
}
